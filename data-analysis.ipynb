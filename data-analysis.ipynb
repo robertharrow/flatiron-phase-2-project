{
 "cells": [
  {
   "cell_type": "markdown",
   "metadata": {},
   "source": [
    "# ACME: King County Home Renovation Investment Plan\n"
   ]
  },
  {
   "cell_type": "markdown",
   "metadata": {},
   "source": [
    "## Overview\n",
    "\n",
    "TBD"
   ]
  },
  {
   "cell_type": "markdown",
   "metadata": {},
   "source": [
    "## Business Problem\n",
    "TBD\n",
    "\n",
    "1. Will renovations have a meaningful impact on home price?\n",
    "2. If so, which 3 renovations will have the most outsized impact on price?\n",
    "3. What will be the profit expected from these renovations? "
   ]
  },
  {
   "cell_type": "markdown",
   "metadata": {},
   "source": [
    "## Data Understanding\n",
    "\n",
    "### Data Dictionary\n",
    "\n",
    "| **Column**        | Description                                                                      | Unique | Dtype   |\n",
    "|:-----------------:|:--------------------------------------------------------------------------------:|:------:|:-------:|\n",
    "| **id**            | Unique identifier for a house                                                    | 21420  | int64   |\n",
    "| **date**          | Date house was sold                                                              | 372    | object  |\n",
    "| **price**         | Sale price                                                                       | 3622   | float64 |\n",
    "| **bedrooms**      | Number of bedrooms                                                               | 12     | int64   |\n",
    "| **bathrooms**     | Number of bathrooms                                                              | 29     | float64 |\n",
    "| **sqft_living**   | Square footage of living space in the home                                       | 1034   | int64   |\n",
    "| **sqft_lot**      | Square footage of the lot                                                        | 9776   | int64   |\n",
    "| **floors**        | Number of floors (levels) in house                                               | 6      | float64 |\n",
    "| **waterfront**    | Whether the house is on a waterfront                                             | 2      | object  |\n",
    "| **view**          | Quality of view from house                                                       | 5      | object  |\n",
    "| **condition**     | How good the overall condition of the house is. Related to maintenance of house. | 5      | object  |\n",
    "| **grade**         | Overall grade of the house. Related to the construction and design of the house. | 11     | object  |\n",
    "| **sqft_above**    | Square footage of house apart from basement                                      | 942    | int64   |\n",
    "| **sqft_basement** | Square footage of the basement                                                   | 304    | object  |\n",
    "| **yr_built**      | Year when house was built                                                        | 116    | int64   |\n",
    "| **yr_renovated**  | Year when house was renovated                                                    | 70     | float64 |\n",
    "| **zipcode**       | ZIP Code used by the United States Postal Service                                | 70     | int64   |\n",
    "| **lat**           | Latitude coordinate                                                              | 5033   | float64 |\n",
    "| **long**          | Longitude coordinate                                                             | 751    | float64 |\n",
    "| **sqft_living15** | The square footage of interior housing living space for the nearest 15 neighbors | 777    | int64   |\n",
    "| **sqft_lot15**    | The square footage of the land lots of the nearest 15 neighbors                  | 8682   | int64   |"
   ]
  },
  {
   "cell_type": "markdown",
   "metadata": {},
   "source": [
    "## Data Preperation\n",
    "\n",
    "TBD"
   ]
  },
  {
   "cell_type": "markdown",
   "metadata": {},
   "source": [
    "### Data Cleaning"
   ]
  },
  {
   "cell_type": "code",
   "execution_count": null,
   "metadata": {},
   "outputs": [],
   "source": []
  }
 ],
 "metadata": {
  "kernelspec": {
   "display_name": "Python (learn-env)",
   "language": "python",
   "name": "learn-env"
  },
  "language_info": {
   "codemirror_mode": {
    "name": "ipython",
    "version": 3
   },
   "file_extension": ".py",
   "mimetype": "text/x-python",
   "name": "python",
   "nbconvert_exporter": "python",
   "pygments_lexer": "ipython3",
   "version": "3.8.5"
  }
 },
 "nbformat": 4,
 "nbformat_minor": 4
}
